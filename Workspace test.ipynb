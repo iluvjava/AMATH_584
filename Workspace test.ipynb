{
 "cells": [
  {
   "cell_type": "code",
   "execution_count": 19,
   "metadata": {},
   "outputs": [
    {
     "name": "stdout",
     "output_type": "stream",
     "text": [
      "workspace loaded.\n"
     ]
    }
   ],
   "source": [
    "import dill\n",
    "import os.path\n",
    "import numpy as np\n",
    "if os.path.exists(\"notebook_session.db\"):\n",
    "    dill.load_session(\"notebook_session.db\")\n",
    "    print(\"workspace loaded.\")"
   ]
  },
  {
   "cell_type": "code",
   "execution_count": 36,
   "metadata": {},
   "outputs": [],
   "source": [
    "RandomMatrix1 = np.random.rand(3,3)\n",
    "RandomMatrix2 = np.random.rand(3,1)\n",
    "\n",
    "Results = RandomMatrix1@RandomMatrix2\n",
    "dill.dump_session(\"notebook_session1.db\")"
   ]
  },
  {
   "cell_type": "code",
   "execution_count": 37,
   "metadata": {},
   "outputs": [
    {
     "name": "stdout",
     "output_type": "stream",
     "text": [
      "The Computational Results: \n",
      "[[0.6382207 ]\n",
      " [0.63364883]\n",
      " [1.05095591]]\n"
     ]
    }
   ],
   "source": [
    "print(\"The Computational Results: \")\n",
    "print(Results)\n",
    "Bruh = RandomMatrix2 = np.random.rand(3,3,3)\n",
    "dill.dump_session(\"notebook_session2.db\")"
   ]
  },
  {
   "cell_type": "code",
   "execution_count": 39,
   "metadata": {},
   "outputs": [
    {
     "name": "stdout",
     "output_type": "stream",
     "text": [
      "[[0.6382207 ]\n",
      " [0.63364883]\n",
      " [1.05095591]]\n",
      "[[[0.42906278 0.86066286 0.11481676]\n",
      "  [0.7772453  0.82956905 0.11017421]\n",
      "  [0.25110657 0.86481139 0.06390998]]\n",
      "\n",
      " [[0.22205384 0.48240012 0.17963963]\n",
      "  [0.90893602 0.73909302 0.7004263 ]\n",
      "  [0.83295708 0.80223434 0.44592755]]\n",
      "\n",
      " [[0.19736255 0.46785242 0.02921231]\n",
      "  [0.50993974 0.0042817  0.87527903]\n",
      "  [0.49298818 0.422945   0.09651046]]]\n"
     ]
    }
   ],
   "source": [
    "dill.load_session(\"notebook_session2.db\")\n",
    "print(Results)\n",
    "print(Bruh)"
   ]
  }
 ],
 "metadata": {
  "kernelspec": {
   "display_name": "Python 3",
   "language": "python",
   "name": "python3"
  },
  "language_info": {
   "codemirror_mode": {
    "name": "ipython",
    "version": 3
   },
   "file_extension": ".py",
   "mimetype": "text/x-python",
   "name": "python",
   "nbconvert_exporter": "python",
   "pygments_lexer": "ipython3",
   "version": "3.7.7"
  }
 },
 "nbformat": 4,
 "nbformat_minor": 4
}
