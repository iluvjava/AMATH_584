{
 "cells": [
  {
   "cell_type": "markdown",
   "metadata": {},
   "source": [
    "### Reflectors and Projector"
   ]
  },
  {
   "cell_type": "code",
   "execution_count": 155,
   "metadata": {},
   "outputs": [],
   "source": [
    "# Must run this. \n",
    "import numpy as np\n",
    "import math as math\n",
    "sign = np.sign\n",
    "eye = np.identity\n",
    "sqrt = math.sqrt\n",
    "norm = np.linalg.norm\n",
    "arr = np.array\n",
    "vstack = np.vstack\n",
    "rand = np.random.rand\n",
    "zeros = np.zeros\n",
    "triu = np.triu\n",
    "tril = np.tril\n",
    "np.set_printoptions(precision=4)"
   ]
  },
  {
   "cell_type": "markdown",
   "metadata": {},
   "source": [
    "So, let's first of all, take a look at the Householder Reflector"
   ]
  },
  {
   "cell_type": "code",
   "execution_count": 2,
   "metadata": {},
   "outputs": [],
   "source": [
    "v = np.array([[1], [1]])"
   ]
  },
  {
   "cell_type": "markdown",
   "metadata": {},
   "source": [
    "The $v$ vector will defines a perpendicular hyper plane which is going to be the reflector, in this case, the reflection plane is just the vector $(-1, 1)$, which lies in the reflection plane. "
   ]
  },
  {
   "cell_type": "code",
   "execution_count": 14,
   "metadata": {},
   "outputs": [
    {
     "name": "stdout",
     "output_type": "stream",
     "text": [
      "[[ 0. -1.]\n",
      " [-1.  0.]]\n"
     ]
    }
   ],
   "source": [
    "P = (eye(2) - 2*(v@v.conj().T)/(v.conj().T@v))\n",
    "print(P)"
   ]
  },
  {
   "cell_type": "markdown",
   "metadata": {},
   "source": [
    "As we can see that the matrix indeed performs a reflection operations on vectors, and the plane of reflection is (-1, 1); by the way, it's a reflector but it's also a projector, it's just different interpretation on the same thing. "
   ]
  },
  {
   "cell_type": "code",
   "execution_count": 68,
   "metadata": {},
   "outputs": [],
   "source": [
    "def reflect(x, y):\n",
    "    \"\"\"\n",
    "        projection matrix that project the x onto the plane y lines in.\n",
    "            * It will return one of the hyperplane with more numerical accurancy, to get the other hyperplane\n",
    "            the also project to y after the reflection, just take the negative value of it and then it will be down.\n",
    "        :param x: \n",
    "            Column vector \n",
    "        :param y: \n",
    "            Column vector\n",
    "    \"\"\"\n",
    "    if len(x.shape) == 2 and len(y.shape) == 2:\n",
    "        y = (y/sqrt(norm(y)))*sqrt(norm(x))  # Y points in y direction and have length of x \n",
    "        v = -sign(x[0])*y - x                # Chose the plane to reflec, with better precision\n",
    "        return (eye(y.shape[0]) - 2*(v@v.conj().T)/(v.conj().T@v))\n",
    "    else:\n",
    "        return None\n",
    "    \n",
    "def hyperplane_reflect(v):\n",
    "    \"\"\"\n",
    "        Given the vector v, the orthogonal vector the hyperplane, this will produce a reflection that reflects \n",
    "        vector with this hyperplane \n",
    "        :para v:\n",
    "            The v vector will have to be a column vector. \n",
    "    \"\"\"\n",
    "    VHeight = v.shape[0];\n",
    "    P = (eye(VHeight) - 2*(v@v.conj().T)/(v.conj().T@v))\n",
    "    return P\n",
    "    "
   ]
  },
  {
   "cell_type": "markdown",
   "metadata": {},
   "source": [
    "Now let's try this out with our vector on the householder reflector. "
   ]
  },
  {
   "cell_type": "code",
   "execution_count": 72,
   "metadata": {},
   "outputs": [
    {
     "name": "stdout",
     "output_type": "stream",
     "text": [
      "[[ 1.  0.]\n",
      " [ 0. -1.]]\n",
      "[[ 1.]\n",
      " [-1.]]\n"
     ]
    }
   ],
   "source": [
    "P = reflect(np.array([[1], [1]]), np.array([[-1], [1]]))\n",
    "print(P)\n",
    "print(P@np.array([[1], [1]]))"
   ]
  },
  {
   "cell_type": "markdown",
   "metadata": {},
   "source": [
    "Let's try out the one vector reflector. \n",
    "\n"
   ]
  },
  {
   "cell_type": "code",
   "execution_count": 60,
   "metadata": {},
   "outputs": [
    {
     "name": "stdout",
     "output_type": "stream",
     "text": [
      "[[0. 1.]\n",
      " [1. 0.]]\n"
     ]
    }
   ],
   "source": [
    "YAxisReflect = hyperplane_reflect(np.array([[-1], [1]]))\n",
    "print(YAxisReflect)\n"
   ]
  },
  {
   "cell_type": "markdown",
   "metadata": {},
   "source": [
    "### Designing the Householder Triangularization"
   ]
  },
  {
   "cell_type": "markdown",
   "metadata": {},
   "source": [
    "Let's just make sure we can vstack matrices perperly. And it does the norm properly. "
   ]
  },
  {
   "cell_type": "code",
   "execution_count": 83,
   "metadata": {},
   "outputs": [
    {
     "name": "stdout",
     "output_type": "stream",
     "text": [
      "[[1]\n",
      " [2]]\n"
     ]
    },
    {
     "data": {
      "text/plain": [
       "2.0"
      ]
     },
     "execution_count": 83,
     "metadata": {},
     "output_type": "execute_result"
    }
   ],
   "source": [
    "stacked = vstack((arr([[1]]), arr([[2]])))\n",
    "print(stacked)\n",
    "zeros((3,3))\n",
    "norm([2,0])"
   ]
  },
  {
   "cell_type": "markdown",
   "metadata": {},
   "source": [
    "Here, we need to take notes one the dimension of matrix slicing, when matrix it's sliced with regular slicer, the dimension doesn't always preserve. \n",
    "\n"
   ]
  },
  {
   "cell_type": "code",
   "execution_count": 103,
   "metadata": {},
   "outputs": [
    {
     "name": "stdout",
     "output_type": "stream",
     "text": [
      "[2 5 8]\n",
      "[[2]\n",
      " [5]\n",
      " [8]]\n",
      "[4 5 6]\n",
      "[[4 5 6]]\n"
     ]
    }
   ],
   "source": [
    "TheMatrix = arr([[1, 2, 3], [4, 5, 6], [7, 8, 9]])\n",
    "print(TheMatrix[:, 1])\n",
    "print(TheMatrix[:, [1]])\n",
    "print(TheMatrix[1, :])\n",
    "print(TheMatrix[[1], :])"
   ]
  },
  {
   "cell_type": "markdown",
   "metadata": {},
   "source": [
    "### Actual Implementation of Householder Triangularization"
   ]
  },
  {
   "cell_type": "code",
   "execution_count": 159,
   "metadata": {},
   "outputs": [],
   "source": [
    "def qr_factor(A):\n",
    "    \"\"\"\n",
    "        Performs a Householder Transformation on the given matrix A. \n",
    "    \"\"\"\n",
    "    A = A.copy()\n",
    "    assert len(A.shape) == 2\n",
    "    assert len(A.shape[1]) <= len(A.shap[0]) # It's a skinny matrix. \n",
    "    m, n = A.shape[0], A.shape[1]\n",
    "    Q = eye(m)\n",
    "    for K in range(n - 1):\n",
    "        z = A[K:m, [K]]\n",
    "        v = zeros((z.shape[0], 1))\n",
    "        v[0, 0] = -sign(z[0])*norm(z)\n",
    "        v = v - z\n",
    "        v = v/norm(v)\n",
    "        J = list(range(m))\n",
    "        Q[K: m, J] = Q[K: m, J] - 2*(v@v.T@Q[K: m, J])\n",
    "    return Q.T,  triu(Q@A)"
   ]
  },
  {
   "cell_type": "markdown",
   "metadata": {},
   "source": [
    "Let's try and run it on a simple 2 by 2 matrix. "
   ]
  },
  {
   "cell_type": "code",
   "execution_count": 144,
   "metadata": {},
   "outputs": [
    {
     "name": "stdout",
     "output_type": "stream",
     "text": [
      "[[1 1]\n",
      " [0 1]]\n",
      "[[-1.  0.]\n",
      " [ 0.  1.]]\n",
      "[[-1. -1.]\n",
      " [ 0.  1.]]\n",
      "[[1. 1.]\n",
      " [0. 1.]]\n"
     ]
    }
   ],
   "source": [
    "A = arr([[1, 1], [0, 1]])\n",
    "print(A)\n",
    "Q, R = qr_factor(A)\n",
    "print(Q)\n",
    "print(R)\n",
    "print(Q@R)"
   ]
  },
  {
   "cell_type": "markdown",
   "metadata": {},
   "source": [
    "let's try and run it on any random 2 by 2 matrix"
   ]
  },
  {
   "cell_type": "code",
   "execution_count": 146,
   "metadata": {},
   "outputs": [
    {
     "name": "stdout",
     "output_type": "stream",
     "text": [
      "This is the original matrix: \n",
      "[[4. 4.]\n",
      " [3. 1.]]\n",
      "This is its factor, Q, R\n",
      "[[-0.8 -0.6]\n",
      " [-0.6  0.8]]\n",
      "[[-5.0000e+00 -3.8000e+00]\n",
      " [ 4.4409e-16 -1.6000e+00]]\n",
      "This is the reconstruction of the matrix: \n",
      "[[4. 4.]\n",
      " [3. 1.]]\n",
      "This is Q Q transpose\n",
      "[[ 1.0000e+00 -1.1102e-16]\n",
      " [-1.1102e-16  1.0000e+00]]\n"
     ]
    }
   ],
   "source": [
    "M = rand(2,2)*(10)\n",
    "M = M.round(0)\n",
    "print(\"This is the original matrix: \")\n",
    "print(M)\n",
    "Q, R = qr_factor(M)\n",
    "print(\"This is its factor, Q, R\")\n",
    "print(Q)\n",
    "print(R)\n",
    "print(\"This is the reconstruction of the matrix: \")\n",
    "print(Q@R)\n",
    "print(\"This is Q Q transpose\")\n",
    "print(Q@Q.T)"
   ]
  },
  {
   "cell_type": "markdown",
   "metadata": {},
   "source": [
    "it seems to be working, let's try some bigger matrix, like 3 by 3 matrix with integers. "
   ]
  },
  {
   "cell_type": "code",
   "execution_count": 151,
   "metadata": {},
   "outputs": [
    {
     "name": "stdout",
     "output_type": "stream",
     "text": [
      "This is the original matrix: \n",
      "[[7. 2. 2.]\n",
      " [8. 2. 3.]\n",
      " [8. 4. 6.]]\n",
      "This is its factor, Q, R\n",
      "[[-0.5262  0.8068  0.2689]\n",
      " [-0.6013 -0.1293 -0.7885]\n",
      " [-0.6013 -0.5766  0.5532]]\n",
      "[[-1.3304e+01 -4.6602e+00 -6.4642e+00]\n",
      " [-8.8818e-16 -9.5143e-01 -2.2339e+00]\n",
      " [-8.8818e-16  1.1736e+00  1.4914e+00]]\n",
      "This is the reconstruction of the matrix: \n",
      "[[7. 2. 2.]\n",
      " [8. 2. 3.]\n",
      " [8. 4. 6.]]\n",
      "This is Q Q transpose\n",
      "[[ 1.0000e+00 -1.1102e-16 -1.1102e-16]\n",
      " [-1.1102e-16  1.0000e+00  0.0000e+00]\n",
      " [-1.1102e-16  0.0000e+00  1.0000e+00]]\n"
     ]
    }
   ],
   "source": [
    "M = rand(3,3)*(10)\n",
    "M = M.round(0)\n",
    "print(\"This is the original matrix: \")\n",
    "print(M)\n",
    "Q, R = qr_factor(M)\n",
    "print(\"This is its factor, Q, R\")\n",
    "print(Q)\n",
    "print(R)\n",
    "print(\"This is the reconstruction of the matrix: \")\n",
    "print(Q@R)\n",
    "print(\"This is Q Q transpose\")\n",
    "print(Q@Q.T)"
   ]
  },
  {
   "cell_type": "code",
   "execution_count": 168,
   "metadata": {},
   "outputs": [
    {
     "name": "stdout",
     "output_type": "stream",
     "text": [
      "2.607242795821305e-12\n"
     ]
    }
   ],
   "source": [
    "M = rand(1000,9)*(10)\n",
    "M = M.round(0)\n",
    "Q, R = qr_factor(M)\n",
    "print(norm((Q@R - M)))"
   ]
  }
 ],
 "metadata": {
  "kernelspec": {
   "display_name": "Python 3",
   "language": "python",
   "name": "python3"
  },
  "language_info": {
   "codemirror_mode": {
    "name": "ipython",
    "version": 3
   },
   "file_extension": ".py",
   "mimetype": "text/x-python",
   "name": "python",
   "nbconvert_exporter": "python",
   "pygments_lexer": "ipython3",
   "version": "3.7.7"
  }
 },
 "nbformat": 4,
 "nbformat_minor": 2
}
