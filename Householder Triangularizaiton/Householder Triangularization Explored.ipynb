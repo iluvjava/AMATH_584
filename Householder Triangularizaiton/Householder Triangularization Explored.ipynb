{
 "cells": [
  {
   "cell_type": "markdown",
   "metadata": {},
   "source": [
    "### Reflectors and Projector"
   ]
  },
  {
   "cell_type": "code",
   "execution_count": 17,
   "metadata": {},
   "outputs": [],
   "source": [
    "# Must run this. \n",
    "from numpy import sign, identity, array, vstack, zeros, triu, tril, sqrt, set_printoptions, arange, newaxis\n",
    "from numpy.linalg import norm, cond\n",
    "from numpy.random import rand\n",
    "from math import isclose\n",
    "from statistics import mean\n",
    "import numpy as np\n",
    "eye = identity\n",
    "arr = array\n",
    "set_printoptions(precision=4)"
   ]
  },
  {
   "cell_type": "markdown",
   "metadata": {},
   "source": [
    "So, let's first of all, take a look at the Householder Reflector"
   ]
  },
  {
   "cell_type": "code",
   "execution_count": 18,
   "metadata": {},
   "outputs": [],
   "source": [
    "v = arr([[1], [1]])"
   ]
  },
  {
   "cell_type": "markdown",
   "metadata": {},
   "source": [
    "The $v$ vector will defines a perpendicular hyper plane which is going to be the reflector, in this case, the reflection plane is just the vector $(-1, 1)$, which lies in the reflection plane. "
   ]
  },
  {
   "cell_type": "code",
   "execution_count": 19,
   "metadata": {},
   "outputs": [
    {
     "name": "stdout",
     "output_type": "stream",
     "text": [
      "[[ 0. -1.]\n",
      " [-1.  0.]]\n"
     ]
    }
   ],
   "source": [
    "P = (eye(2) - 2*(v@v.conj().T)/(v.conj().T@v))\n",
    "print(P)"
   ]
  },
  {
   "cell_type": "markdown",
   "metadata": {},
   "source": [
    "As we can see that the matrix indeed performs a reflection operations on vectors, and the plane of reflection is (-1, 1); by the way, it's a reflector but it's also a projector, it's just different interpretation on the same thing. "
   ]
  },
  {
   "cell_type": "code",
   "execution_count": 20,
   "metadata": {},
   "outputs": [],
   "source": [
    "def reflect(x, y):\n",
    "    \"\"\"\n",
    "        projection matrix that project the x onto the plane y lines in.\n",
    "            * It will return one of the hyperplane with more numerical accurancy, to get the other hyperplane\n",
    "            the also project to y after the reflection, just take the negative value of it and then it will be down.\n",
    "        :param x: \n",
    "            Column vector \n",
    "        :param y: \n",
    "            Column vector\n",
    "    \"\"\"\n",
    "    if len(x.shape) == 2 and len(y.shape) == 2:\n",
    "        y = (y/sqrt(norm(y)))*sqrt(norm(x))  # Y points in y direction and have length of x \n",
    "        v = -sign(x[0])*y - x                # Chose the plane to reflec, with better precision\n",
    "        return (eye(y.shape[0]) - 2*(v@v.conj().T)/(v.conj().T@v))\n",
    "    else:\n",
    "        return None\n",
    "    \n",
    "def hyperplane_reflect(v):\n",
    "    \"\"\"\n",
    "        Given the vector v, the orthogonal vector the hyperplane, this will produce a reflection that reflects \n",
    "        vector with this hyperplane \n",
    "        :para v:\n",
    "            The v vector will have to be a column vector. \n",
    "    \"\"\"\n",
    "    VHeight = v.shape[0];\n",
    "    P = (eye(VHeight) - 2*(v@v.conj().T)/(v.conj().T@v))\n",
    "    return P\n",
    "    "
   ]
  },
  {
   "cell_type": "markdown",
   "metadata": {},
   "source": [
    "Now let's try this out with our vector on the householder reflector. "
   ]
  },
  {
   "cell_type": "code",
   "execution_count": 35,
   "metadata": {},
   "outputs": [
    {
     "name": "stdout",
     "output_type": "stream",
     "text": [
      "[[ 1.  0.]\n",
      " [ 0. -1.]]\n",
      "[[ 1.]\n",
      " [-1.]]\n"
     ]
    }
   ],
   "source": [
    "P = reflect(arr([[1], [1]]), arr([[-1], [1]]))\n",
    "print(P)\n",
    "print(P@arr([[1], [1]]))"
   ]
  },
  {
   "cell_type": "markdown",
   "metadata": {},
   "source": [
    "Let's try out the one vector reflector. \n",
    "\n"
   ]
  },
  {
   "cell_type": "code",
   "execution_count": 25,
   "metadata": {},
   "outputs": [
    {
     "name": "stdout",
     "output_type": "stream",
     "text": [
      "[[0. 1.]\n",
      " [1. 0.]]\n"
     ]
    }
   ],
   "source": [
    "YAxisReflect = hyperplane_reflect(arr([[-1], [1]]))\n",
    "print(YAxisReflect)\n"
   ]
  },
  {
   "cell_type": "markdown",
   "metadata": {},
   "source": [
    "### Designing the Householder Triangularization"
   ]
  },
  {
   "cell_type": "markdown",
   "metadata": {},
   "source": [
    "Let's just make sure we can vstack matrices perperly. And it does the norm properly. "
   ]
  },
  {
   "cell_type": "code",
   "execution_count": 26,
   "metadata": {},
   "outputs": [
    {
     "name": "stdout",
     "output_type": "stream",
     "text": [
      "[[1]\n",
      " [2]]\n"
     ]
    },
    {
     "data": {
      "text/plain": [
       "2.0"
      ]
     },
     "execution_count": 26,
     "metadata": {},
     "output_type": "execute_result"
    }
   ],
   "source": [
    "stacked = vstack((arr([[1]]), arr([[2]])))\n",
    "print(stacked)\n",
    "zeros((3,3))\n",
    "norm([2,0])"
   ]
  },
  {
   "cell_type": "markdown",
   "metadata": {},
   "source": [
    "Here, we need to take notes one the dimension of matrix slicing, when matrix it's sliced with regular slicer, the dimension doesn't always preserve. \n",
    "\n"
   ]
  },
  {
   "cell_type": "code",
   "execution_count": 36,
   "metadata": {},
   "outputs": [
    {
     "name": "stdout",
     "output_type": "stream",
     "text": [
      "[2 5 8]\n",
      "[[2]\n",
      " [5]\n",
      " [8]]\n",
      "[4 5 6]\n",
      "[[4 5 6]]\n"
     ]
    }
   ],
   "source": [
    "TheMatrix = arr([[1, 2, 3], [4, 5, 6], [7, 8, 9]])\n",
    "print(TheMatrix[:, 1])\n",
    "print(TheMatrix[:, [1]])\n",
    "print(TheMatrix[1, :])\n",
    "print(TheMatrix[[1], :])"
   ]
  },
  {
   "cell_type": "markdown",
   "metadata": {},
   "source": [
    "Let's also try the Sub matrix assignment "
   ]
  },
  {
   "cell_type": "code",
   "execution_count": 37,
   "metadata": {},
   "outputs": [
    {
     "name": "stdout",
     "output_type": "stream",
     "text": [
      "[[1 2 3]\n",
      " [4 1 1]\n",
      " [7 1 1]]\n",
      "[[1 1 1]\n",
      " [1 1 1]\n",
      " [1 1 1]]\n"
     ]
    }
   ],
   "source": [
    "TheMatrix[1:, 1:] = arr([[1, 1], [1, 1]])\n",
    "print(TheMatrix)\n",
    "TheMatrix[0:3, 0:3] = arr([[1, 1, 1]]*3) \n",
    "print(TheMatrix)"
   ]
  },
  {
   "cell_type": "markdown",
   "metadata": {},
   "source": [
    "A warning about slicing stuff out of the matrix! Is it mutable slice? \n"
   ]
  },
  {
   "cell_type": "code",
   "execution_count": 38,
   "metadata": {},
   "outputs": [
    {
     "name": "stdout",
     "output_type": "stream",
     "text": [
      "[[1 2]]\n",
      "[[-1  2]]\n",
      "[[1 2 3]\n",
      " [4 5 6]\n",
      " [7 8 9]]\n"
     ]
    }
   ],
   "source": [
    "TheMatrix = arr([[1, 2, 3], [4, 5, 6], [7, 8, 9]])\n",
    "TheSubMatrix = TheMatrix[0:1, [0, 1]]\n",
    "print(TheSubMatrix)\n",
    "TheSubMatrix[0, 0] = -1\n",
    "print(TheSubMatrix)\n",
    "print(TheMatrix)"
   ]
  },
  {
   "cell_type": "markdown",
   "metadata": {},
   "source": [
    "Let's try some trikier example for this scheme, because there are pathological inputs that can destroy the algorithm, this is the case because the array tends to conserve the datatype. "
   ]
  },
  {
   "cell_type": "code",
   "execution_count": 39,
   "metadata": {},
   "outputs": [
    {
     "name": "stdout",
     "output_type": "stream",
     "text": [
      "int32\n",
      "[[-1  1]\n",
      " [ 0  0]\n",
      " [ 0  0]]\n"
     ]
    }
   ],
   "source": [
    "R = arr([[0, 1], [1, 0], [1, 0]])\n",
    "print(R.dtype)\n",
    "Temp =  arr([[-1.41421], [0], [0]])\n",
    "R[0:, [0]] = Temp\n",
    "print(R)"
   ]
  },
  {
   "cell_type": "markdown",
   "metadata": {},
   "source": [
    "### Actual Implementation of Householder Triangularization"
   ]
  },
  {
   "cell_type": "code",
   "execution_count": 85,
   "metadata": {},
   "outputs": [],
   "source": [
    "def qr_factor(R):\n",
    "    \"\"\"\n",
    "        Performs a Householder Transformation on the given matrix A, \n",
    "        full QR Decomposition. \n",
    "    \"\"\"\n",
    "    R = R.copy().astype(\"float64\")\n",
    "    assert len(R.shape) == 2\n",
    "    m, n = R.shape[0], R.shape[1]\n",
    "    Q = eye(m)\n",
    "    for K in range((n - 1) if n == m else n):\n",
    "        z = R[K:m, [K]]\n",
    "        v = zeros((z.shape[0], 1))\n",
    "        NormZ = norm(z)\n",
    "        if isclose(NormZ, 0): raise Exception(\"Rank Defecit\")\n",
    "        v[0, 0] = (1 if z[0] < 0 else -1)*NormZ\n",
    "        v = v - z\n",
    "        v = v/norm(v)\n",
    "        J = list(range(n))\n",
    "        R[K: m, :n] = R[K: m, J] - 2*(v@v.T)@R[K: m, J]\n",
    "        J = list(range(m))\n",
    "        Q[K: m, :m] = Q[K: m, J] - 2*(v@v.T)@Q[K: m, J]\n",
    "    return Q.T, triu(R)\n"
   ]
  },
  {
   "cell_type": "markdown",
   "metadata": {},
   "source": [
    "Let's try and run it on a simple 2 by 2 matrix. "
   ]
  },
  {
   "cell_type": "code",
   "execution_count": 42,
   "metadata": {},
   "outputs": [
    {
     "name": "stdout",
     "output_type": "stream",
     "text": [
      "[[0 1]\n",
      " [1 0]\n",
      " [1 0]]\n",
      "These are the factors: \n",
      "[[-2.2204e-16  1.0000e+00  1.1102e-16]\n",
      " [-7.0711e-01  5.5511e-17 -7.0711e-01]\n",
      " [-7.0711e-01 -5.5511e-17  7.0711e-01]]\n",
      "[[-1.4142e+00 -2.2204e-16]\n",
      " [ 0.0000e+00  1.0000e+00]\n",
      " [ 0.0000e+00  0.0000e+00]]\n",
      "Matrix Reconstructed: \n",
      "[[3.1402e-16 1.0000e+00]\n",
      " [1.0000e+00 2.1252e-16]\n",
      " [1.0000e+00 1.0150e-16]]\n"
     ]
    }
   ],
   "source": [
    "A = arr([[0, 1], [1, 0], [1, 0]])\n",
    "print(A)\n",
    "Q, R = qr_factor(A)\n",
    "print(\"These are the factors: \")\n",
    "print(Q)\n",
    "print(R)\n",
    "print(\"Matrix Reconstructed: \")\n",
    "print(Q@R)"
   ]
  },
  {
   "cell_type": "markdown",
   "metadata": {},
   "source": [
    "let's try and run it on any random 2 by 2 matrix"
   ]
  },
  {
   "cell_type": "code",
   "execution_count": 43,
   "metadata": {},
   "outputs": [
    {
     "name": "stdout",
     "output_type": "stream",
     "text": [
      "This is the original matrix: \n",
      "[[6. 7.]\n",
      " [8. 8.]]\n",
      "This is its factor, Q, R\n",
      "[[-0.6 -0.8]\n",
      " [-0.8  0.6]]\n",
      "[[-10.  -10.6]\n",
      " [  0.   -0.8]]\n",
      "This is the reconstruction of the matrix: \n",
      "[[6. 7.]\n",
      " [8. 8.]]\n",
      "This is Q Q transpose\n",
      "[[ 1.0000e+00 -1.6653e-16]\n",
      " [-1.6653e-16  1.0000e+00]]\n"
     ]
    }
   ],
   "source": [
    "M = rand(2,2)*(10)\n",
    "M = M.round(0)\n",
    "print(\"This is the original matrix: \")\n",
    "print(M)\n",
    "Q, R = qr_factor(M)\n",
    "print(\"This is its factor, Q, R\")\n",
    "print(Q)\n",
    "print(R)\n",
    "print(\"This is the reconstruction of the matrix: \")\n",
    "print(Q@R)\n",
    "print(\"This is Q Q transpose\")\n",
    "print(Q@Q.T)"
   ]
  },
  {
   "cell_type": "markdown",
   "metadata": {},
   "source": [
    "it seems to be working, let's try some bigger matrix, like 3 by 3 matrix with integers. "
   ]
  },
  {
   "cell_type": "code",
   "execution_count": 44,
   "metadata": {},
   "outputs": [
    {
     "name": "stdout",
     "output_type": "stream",
     "text": [
      "This is the original matrix: \n",
      "[[0. 9. 0.]\n",
      " [9. 7. 4.]\n",
      " [7. 8. 1.]]\n",
      "This is its factor, Q, R\n",
      "[[-2.2204e-16  9.7579e-01 -2.1871e-01]\n",
      " [-7.8935e-01 -1.3428e-01 -5.9908e-01]\n",
      " [-6.1394e-01  1.7264e-01  7.7024e-01]]\n",
      "[[-11.4018 -10.437   -3.7713]\n",
      " [  0.       9.2233  -0.3645]\n",
      " [  0.       0.      -1.6261]]\n",
      "This is the reconstruction of the matrix: \n",
      "[[2.5317e-15 9.0000e+00 1.3323e-15]\n",
      " [9.0000e+00 7.0000e+00 4.0000e+00]\n",
      " [7.0000e+00 8.0000e+00 1.0000e+00]]\n",
      "This is Q Q transpose\n",
      "[[1.0000e+00 2.7756e-16 5.5511e-17]\n",
      " [2.7756e-16 1.0000e+00 1.1102e-16]\n",
      " [5.5511e-17 1.1102e-16 1.0000e+00]]\n"
     ]
    }
   ],
   "source": [
    "M = rand(3, 3)*(10)\n",
    "M[0, 0] = 0\n",
    "M = M.round(0)\n",
    "print(\"This is the original matrix: \")\n",
    "print(M)\n",
    "Q, R = qr_factor(M)\n",
    "print(\"This is its factor, Q, R\")\n",
    "print(Q)\n",
    "print(R)\n",
    "print(\"This is the reconstruction of the matrix: \")\n",
    "print(Q@R)\n",
    "print(\"This is Q Q transpose\")\n",
    "print(Q@Q.T)"
   ]
  },
  {
   "cell_type": "code",
   "execution_count": 77,
   "metadata": {},
   "outputs": [
    {
     "name": "stdout",
     "output_type": "stream",
     "text": [
      "The random matrix\n",
      "[[3. 3. 1. 4.]\n",
      " [3. 3. 4. 3.]\n",
      " [2. 4. 8. 8.]\n",
      " [9. 8. 5. 0.]\n",
      " [8. 9. 5. 7.]]\n",
      "This is the QR factors: \n",
      "[[-0.2321 -0.0221  0.2266  0.8189 -0.473 ]\n",
      " [-0.2321 -0.0221 -0.4833  0.4715  0.6998]\n",
      " [-0.1548  0.8055 -0.4766 -0.0686 -0.3089]\n",
      " [-0.6964 -0.4764 -0.3472 -0.2842 -0.2944]\n",
      " [-0.6191  0.3512  0.606  -0.147   0.3233]]\n",
      "[[-12.9228 -13.155   -8.9763  -7.1966]\n",
      " [  0.       2.4385   5.7069   8.747 ]\n",
      " [  0.       0.      -4.2256  -0.1142]\n",
      " [  0.       0.       0.       3.1122]\n",
      " [  0.       0.       0.       0.    ]]\n",
      "5.073123991470691e-15\n",
      "Recovered Matrix: \n",
      "[[3.0000e+00 3.0000e+00 1.0000e+00 4.0000e+00]\n",
      " [3.0000e+00 3.0000e+00 4.0000e+00 3.0000e+00]\n",
      " [2.0000e+00 4.0000e+00 8.0000e+00 8.0000e+00]\n",
      " [9.0000e+00 8.0000e+00 5.0000e+00 6.6613e-16]\n",
      " [8.0000e+00 9.0000e+00 5.0000e+00 7.0000e+00]]\n",
      "8.570587382375211e-16\n"
     ]
    }
   ],
   "source": [
    "M = rand(5, 4)*(10)\n",
    "M = M.round(0)\n",
    "print(\"The random matrix\")\n",
    "print(M)\n",
    "Q, R = qr_factor(M)\n",
    "print(\"This is the QR factors: \")\n",
    "print(Q)\n",
    "print(R)\n",
    "print(norm((Q@R - M)))\n",
    "print(\"Recovered Matrix: \")\n",
    "print(Q@R)\n",
    "print(norm(Q@Q.T - eye(Q.shape[0])))"
   ]
  },
  {
   "cell_type": "markdown",
   "metadata": {},
   "source": [
    "#### Modifications so it Can Decompose all Matrices\n",
    "For Rank Defecit matrix, the resulting R matrix will not be strictly diagonal anymore, so in that case, we will have accept that part, and in our original algorithm, we will make the choice of skipping zero columns while triangularzing.\n",
    "\n",
    "The resulting $Q$ matrix will still be orthogonalt, that part is good."
   ]
  },
  {
   "cell_type": "code",
   "execution_count": 30,
   "metadata": {},
   "outputs": [],
   "source": [
    "def full_qr_factor(R):\n",
    "    \"\"\"\n",
    "        Performs a Householder Transformation on the given matrix A, \n",
    "        full QR Decomposition. \n",
    "    \"\"\"\n",
    "    R = R.copy().astype(\"float64\")\n",
    "    assert len(R.shape) == 2\n",
    "    m, n = R.shape[0], R.shape[1]\n",
    "    Q = eye(m)\n",
    "    for K in range((n - 1) if n == m else n):\n",
    "        z = R[K:m, [K]]\n",
    "        v = zeros((z.shape[0], 1))\n",
    "        NormZ = norm(z)\n",
    "        if isclose(NormZ, 0): continue\n",
    "        v[0, 0] = (1 if z[0] < 0 else -1)*NormZ\n",
    "        v = v - z\n",
    "        v = v/norm(v)\n",
    "        J = list(range(n))\n",
    "        P = v@v.T\n",
    "        R[K: m, :n] = R[K: m, J] - 2*P@R[K: m, J]\n",
    "        J = list(range(m))\n",
    "        Q[K: m, :m] = Q[K: m, J] - 2*P@Q[K: m, J]\n",
    "    return Q.T, triu(R)"
   ]
  },
  {
   "cell_type": "code",
   "execution_count": 31,
   "metadata": {},
   "outputs": [
    {
     "name": "stdout",
     "output_type": "stream",
     "text": [
      "Q, R factor of the matrix A: \n",
      "[[-2.2204e-16  1.0000e+00  1.1102e-16]\n",
      " [-7.0711e-01  5.5511e-17 -7.0711e-01]\n",
      " [-7.0711e-01 -5.5511e-17  7.0711e-01]]\n",
      "[[-1.4142e+00 -2.2204e-16 -1.4142e+00]\n",
      " [ 0.0000e+00  1.0000e+00  0.0000e+00]\n",
      " [ 0.0000e+00  0.0000e+00  0.0000e+00]]\n",
      "Reconstructing the matrix: \n",
      "[[3.1402e-16 1.0000e+00 3.1402e-16]\n",
      " [1.0000e+00 2.1252e-16 1.0000e+00]\n",
      " [1.0000e+00 1.0150e-16 1.0000e+00]]\n"
     ]
    }
   ],
   "source": [
    "A = arr([[0, 1, 0], [1, 0, 1], [1, 0, 1]])\n",
    "Q, R = full_qr_factor(A)\n",
    "print(\"Q, R factor of the matrix A: \")\n",
    "print(Q)\n",
    "print(R)\n",
    "print(\"Reconstructing the matrix: \")\n",
    "print(Q@R)"
   ]
  },
  {
   "cell_type": "markdown",
   "metadata": {},
   "source": [
    "### Efficiency and Accuracy of Householder Triangularization"
   ]
  },
  {
   "cell_type": "code",
   "execution_count": 36,
   "metadata": {},
   "outputs": [],
   "source": [
    "def rand_skinny_matrix_QR_factor(m, n):\n",
    "    TotalTrials = 100\n",
    "    ReconstructionErrors = []\n",
    "    for _ in range(TotalTrials):\n",
    "        RandMatrix = rand(m, n)\n",
    "        Q, R = qr_factor(RandMatrix)\n",
    "        Error = norm(Q@R - RandMatrix)\n",
    "        ReconstructionErrors.append(Error)\n",
    "    return ReconstructionErrors "
   ]
  },
  {
   "cell_type": "code",
   "execution_count": 84,
   "metadata": {},
   "outputs": [
    {
     "name": "stdout",
     "output_type": "stream",
     "text": [
      "The average element wise error of matrix reconstruction is: 5.1353992082016946e-18\n"
     ]
    }
   ],
   "source": [
    "print(f\"The average element wise error of matrix reconstruction is: {mean(rand_skinny_matrix_QR_factor(100, 100))/1e4}\")"
   ]
  },
  {
   "cell_type": "markdown",
   "metadata": {},
   "source": [
    "Let's try it on some ill-conditioned matrices and see how it behaves. "
   ]
  },
  {
   "cell_type": "code",
   "execution_count": 18,
   "metadata": {},
   "outputs": [
    {
     "name": "stdout",
     "output_type": "stream",
     "text": [
      "[[1.0000e+00 5.0000e-01 3.3333e-01 ... 1.0309e-02 1.0204e-02 1.0101e-02]\n",
      " [5.0000e-01 2.5000e-01 1.6667e-01 ... 5.1546e-03 5.1020e-03 5.0505e-03]\n",
      " [3.3333e-01 1.6667e-01 1.1111e-01 ... 3.4364e-03 3.4014e-03 3.3670e-03]\n",
      " ...\n",
      " [1.0309e-02 5.1546e-03 3.4364e-03 ... 1.0628e-04 1.0520e-04 1.0413e-04]\n",
      " [1.0204e-02 5.1020e-03 3.4014e-03 ... 1.0520e-04 1.0412e-04 1.0307e-04]\n",
      " [1.0101e-02 5.0505e-03 3.3670e-03 ... 1.0413e-04 1.0307e-04 1.0203e-04]]\n",
      "The condition number of the matrix is: 8.478940074588704e+35\n"
     ]
    }
   ],
   "source": [
    "IllMatrix = arange(1, 100)[newaxis, :]\n",
    "IllMatrix = 1/(IllMatrix.T@IllMatrix)\n",
    "print(IllMatrix)\n",
    "print(f\"The condition number of the matrix is: {cond(IllMatrix)}\")"
   ]
  },
  {
   "cell_type": "code",
   "execution_count": 35,
   "metadata": {},
   "outputs": [
    {
     "name": "stdout",
     "output_type": "stream",
     "text": [
      "The Error for reconstructing the matrix is: 1.1636453269059198e-19\n",
      "The errors on orthogonality of the Q matrix: 1.2891577691211865e-14\n"
     ]
    }
   ],
   "source": [
    "Q, R = full_qr_factor(IllMatrix)\n",
    "print(f\"The Error for reconstructing the matrix is: {norm(Q@R - IllMatrix)/10000}\")\n",
    "print(f\"The errors on orthogonality of the Q matrix: {norm(Q@Q.T - eye(Q.shape[0]))}\")"
   ]
  }
 ],
 "metadata": {
  "kernelspec": {
   "display_name": "Python 3",
   "language": "python",
   "name": "python3"
  },
  "language_info": {
   "codemirror_mode": {
    "name": "ipython",
    "version": 3
   },
   "file_extension": ".py",
   "mimetype": "text/x-python",
   "name": "python",
   "nbconvert_exporter": "python",
   "pygments_lexer": "ipython3",
   "version": "3.7.7"
  }
 },
 "nbformat": 4,
 "nbformat_minor": 2
}
