{
 "cells": [
  {
   "cell_type": "code",
   "execution_count": 39,
   "metadata": {},
   "outputs": [],
   "source": [
    "import numpy as np\n",
    "sign = np.sign\n",
    "eye = np.identity\n",
    "np.set_printoptions(precision=4)\n"
   ]
  },
  {
   "cell_type": "markdown",
   "metadata": {},
   "source": [
    "So, let's first of all, take a look at the Householder Reflector"
   ]
  },
  {
   "cell_type": "code",
   "execution_count": 2,
   "metadata": {},
   "outputs": [],
   "source": [
    "v = np.array([[1], [1]])"
   ]
  },
  {
   "cell_type": "markdown",
   "metadata": {},
   "source": [
    "The $v$ vector will defines a perpendicular hyper plane which is going to be the reflector, in this case, the reflection plane is just the vector $(-1, 1)$, which lies in the reflection plane. "
   ]
  },
  {
   "cell_type": "code",
   "execution_count": 14,
   "metadata": {},
   "outputs": [
    {
     "name": "stdout",
     "output_type": "stream",
     "text": [
      "[[ 0. -1.]\n",
      " [-1.  0.]]\n"
     ]
    }
   ],
   "source": [
    "P = (eye(2) - 2*(v@v.conj().T)/(v.conj().T@v))\n",
    "print(P)"
   ]
  },
  {
   "cell_type": "markdown",
   "metadata": {},
   "source": [
    "As we can see that the matrix indeed performs a reflection operations on vectors, and the plane of reflection is (-1, 1); by the way, it's a reflector but it's also a projector, it's just different interpretation on the same thing. "
   ]
  },
  {
   "cell_type": "code",
   "execution_count": 51,
   "metadata": {},
   "outputs": [],
   "source": [
    "def reflect(x, y):\n",
    "    \"\"\"\n",
    "        projection matrix that project the x onto the plane y lines in.\n",
    "        :param x: \n",
    "            Column vector \n",
    "        :param y: \n",
    "            Column vector\n",
    "    \"\"\"\n",
    "    if len(x.shape) == 2 and len(y.shape) == 2:\n",
    "        y = (y.conj().T@y)*y\n",
    "        v = -sign(x[0])*y - x\n",
    "        return (eye(2) - 2*(v@v.conj().T)/(v.conj().T@v))\n",
    "    else:\n",
    "        return None\n",
    "    \n",
    "def hyperplane_reflect(v):\n",
    "    \"\"\"\n",
    "        Given the vector v, the orthogonal vector the hyperplane, this will produce a reflection that reflects \n",
    "        vector with this hyperplane \n",
    "        :para v:\n",
    "            The v vector will have to be a column vector. \n",
    "    \"\"\"\n",
    "    "
   ]
  },
  {
   "cell_type": "markdown",
   "metadata": {},
   "source": [
    "Now let's try this out with our vector"
   ]
  },
  {
   "cell_type": "code",
   "execution_count": 50,
   "metadata": {},
   "outputs": [
    {
     "name": "stdout",
     "output_type": "stream",
     "text": [
      "[[-0.6 -0.8]\n",
      " [-0.8  0.6]]\n",
      "[[-1.4]\n",
      " [-0.2]]\n"
     ]
    }
   ],
   "source": [
    "\n",
    "P = reflect(np.array([[1], [1]]), np.array([[1], [0]]))\n",
    "print(P)\n",
    "print(P@np.array([[1], [1]]))"
   ]
  },
  {
   "cell_type": "code",
   "execution_count": 43,
   "metadata": {},
   "outputs": [
    {
     "data": {
      "text/plain": [
       "1"
      ]
     },
     "execution_count": 43,
     "metadata": {},
     "output_type": "execute_result"
    }
   ],
   "source": [
    "len(np.array([1,2,3 ]).shape)\n"
   ]
  }
 ],
 "metadata": {
  "kernelspec": {
   "display_name": "Python 3",
   "language": "python",
   "name": "python3"
  }
 },
 "nbformat": 4,
 "nbformat_minor": 2
}
