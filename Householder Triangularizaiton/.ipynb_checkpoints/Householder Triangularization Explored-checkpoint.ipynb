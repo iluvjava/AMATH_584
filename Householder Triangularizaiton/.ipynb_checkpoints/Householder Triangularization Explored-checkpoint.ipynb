{
 "cells": [
  {
   "cell_type": "markdown",
   "metadata": {},
   "source": [
    "### Reflectors and Projector"
   ]
  },
  {
   "cell_type": "code",
   "execution_count": 66,
   "metadata": {},
   "outputs": [],
   "source": [
    "import numpy as np\n",
    "import math as math\n",
    "sign = np.sign\n",
    "eye = np.identity\n",
    "sqrt = math.sqrt\n",
    "norm = np.linalg.norm\n",
    "np.set_printoptions(precision=4)"
   ]
  },
  {
   "cell_type": "markdown",
   "metadata": {},
   "source": [
    "So, let's first of all, take a look at the Householder Reflector"
   ]
  },
  {
   "cell_type": "code",
   "execution_count": 2,
   "metadata": {},
   "outputs": [],
   "source": [
    "v = np.array([[1], [1]])"
   ]
  },
  {
   "cell_type": "markdown",
   "metadata": {},
   "source": [
    "The $v$ vector will defines a perpendicular hyper plane which is going to be the reflector, in this case, the reflection plane is just the vector $(-1, 1)$, which lies in the reflection plane. "
   ]
  },
  {
   "cell_type": "code",
   "execution_count": 14,
   "metadata": {},
   "outputs": [
    {
     "name": "stdout",
     "output_type": "stream",
     "text": [
      "[[ 0. -1.]\n",
      " [-1.  0.]]\n"
     ]
    }
   ],
   "source": [
    "P = (eye(2) - 2*(v@v.conj().T)/(v.conj().T@v))\n",
    "print(P)"
   ]
  },
  {
   "cell_type": "markdown",
   "metadata": {},
   "source": [
    "As we can see that the matrix indeed performs a reflection operations on vectors, and the plane of reflection is (-1, 1); by the way, it's a reflector but it's also a projector, it's just different interpretation on the same thing. "
   ]
  },
  {
   "cell_type": "code",
   "execution_count": 68,
   "metadata": {},
   "outputs": [],
   "source": [
    "def reflect(x, y):\n",
    "    \"\"\"\n",
    "        projection matrix that project the x onto the plane y lines in.\n",
    "            * It will return one of the hyperplane with more numerical accurancy, to get the other hyperplane\n",
    "            the also project to y after the reflection, just take the negative value of it and then it will be down.\n",
    "        :param x: \n",
    "            Column vector \n",
    "        :param y: \n",
    "            Column vector\n",
    "    \"\"\"\n",
    "    if len(x.shape) == 2 and len(y.shape) == 2:\n",
    "        y = (y/sqrt(norm(y)))*sqrt(norm(x))  # Y points in y direction and have length of x \n",
    "        v = -sign(x[0])*y - x                # Chose the plane to reflec, with better precision\n",
    "        return (eye(y.shape[0]) - 2*(v@v.conj().T)/(v.conj().T@v))\n",
    "    else:\n",
    "        return None\n",
    "    \n",
    "def hyperplane_reflect(v):\n",
    "    \"\"\"\n",
    "        Given the vector v, the orthogonal vector the hyperplane, this will produce a reflection that reflects \n",
    "        vector with this hyperplane \n",
    "        :para v:\n",
    "            The v vector will have to be a column vector. \n",
    "    \"\"\"\n",
    "    VHeight = v.shape[0];\n",
    "    P = (eye(VHeight) - 2*(v@v.conj().T)/(v.conj().T@v))\n",
    "    return P\n",
    "    "
   ]
  },
  {
   "cell_type": "markdown",
   "metadata": {},
   "source": [
    "Now let's try this out with our vector on the householder reflector. "
   ]
  },
  {
   "cell_type": "code",
   "execution_count": 72,
   "metadata": {},
   "outputs": [
    {
     "name": "stdout",
     "output_type": "stream",
     "text": [
      "[[ 1.  0.]\n",
      " [ 0. -1.]]\n",
      "[[ 1.]\n",
      " [-1.]]\n"
     ]
    }
   ],
   "source": [
    "P = reflect(np.array([[1], [1]]), np.array([[-1], [1]]))\n",
    "print(P)\n",
    "print(P@np.array([[1], [1]]))"
   ]
  },
  {
   "cell_type": "markdown",
   "metadata": {},
   "source": [
    "Let's try out the one vector reflector. \n",
    "\n"
   ]
  },
  {
   "cell_type": "code",
   "execution_count": 60,
   "metadata": {},
   "outputs": [
    {
     "name": "stdout",
     "output_type": "stream",
     "text": [
      "[[0. 1.]\n",
      " [1. 0.]]\n"
     ]
    }
   ],
   "source": [
    "YAxisReflect = hyperplane_reflect(np.array([[-1], [1]]))\n",
    "print(YAxisReflect)\n"
   ]
  },
  {
   "cell_type": "markdown",
   "metadata": {},
   "source": [
    "### Designing the Householder Triangularization"
   ]
  }
 ],
 "metadata": {
  "kernelspec": {
   "display_name": "Python 3",
   "language": "python",
   "name": "python3"
  }
 },
 "nbformat": 4,
 "nbformat_minor": 2
}
